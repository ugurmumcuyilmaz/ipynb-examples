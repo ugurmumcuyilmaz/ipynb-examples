{
 "cells": [
  {
   "cell_type": "markdown",
   "metadata": {},
   "source": [
    "<h1>Creating Structured Arrays</h1>"
   ]
  },
  {
   "cell_type": "code",
   "execution_count": 1,
   "metadata": {},
   "outputs": [],
   "source": [
    "import numpy as np"
   ]
  },
  {
   "cell_type": "code",
   "execution_count": 2,
   "metadata": {},
   "outputs": [
    {
     "data": {
      "text/plain": [
       "[('name', 'S6'), ('height', 'f8'), ('weight', 'f8'), ('age', 'i8')]"
      ]
     },
     "execution_count": 2,
     "metadata": {},
     "output_type": "execute_result"
    }
   ],
   "source": [
    "person_data_def = [('name','S6'),('height','f8'),('weight','f8'), ('age', 'i8')]\n",
    "person_data_def"
   ]
  },
  {
   "cell_type": "code",
   "execution_count": 3,
   "metadata": {},
   "outputs": [],
   "source": [
    "people_array = np.zeros((4), dtype = person_data_def)"
   ]
  },
  {
   "cell_type": "code",
   "execution_count": 4,
   "metadata": {},
   "outputs": [
    {
     "data": {
      "text/plain": [
       "array([(b'', 0., 0., 0), (b'', 0., 0., 0), (b'', 0., 0., 0),\n",
       "       (b'', 0., 0., 0)],\n",
       "      dtype=[('name', 'S6'), ('height', '<f8'), ('weight', '<f8'), ('age', '<i8')])"
      ]
     },
     "execution_count": 4,
     "metadata": {},
     "output_type": "execute_result"
    }
   ],
   "source": [
    "people_array"
   ]
  },
  {
   "cell_type": "code",
   "execution_count": 5,
   "metadata": {},
   "outputs": [],
   "source": [
    "people_array[3] = ('Delta', 73, 205, 34)"
   ]
  },
  {
   "cell_type": "code",
   "execution_count": 6,
   "metadata": {},
   "outputs": [],
   "source": [
    "people_array[0] = ('Alfa', 65, 112, 23)"
   ]
  },
  {
   "cell_type": "code",
   "execution_count": 7,
   "metadata": {},
   "outputs": [
    {
     "data": {
      "text/plain": [
       "array([(b'Alfa', 65., 112., 23), (b'',  0.,   0.,  0),\n",
       "       (b'',  0.,   0.,  0), (b'Delta', 73., 205., 34)],\n",
       "      dtype=[('name', 'S6'), ('height', '<f8'), ('weight', '<f8'), ('age', '<i8')])"
      ]
     },
     "execution_count": 7,
     "metadata": {},
     "output_type": "execute_result"
    }
   ],
   "source": [
    "people_array"
   ]
  },
  {
   "cell_type": "code",
   "execution_count": 8,
   "metadata": {},
   "outputs": [
    {
     "data": {
      "text/plain": [
       "array([(b'Alfa', 65., 112., 23), (b'',  0.,   0.,  0),\n",
       "       (b'',  0.,   0.,  0), (b'Delta', 73., 205., 34)],\n",
       "      dtype=[('name', 'S6'), ('height', '<f8'), ('weight', '<f8'), ('age', '<i8')])"
      ]
     },
     "execution_count": 8,
     "metadata": {},
     "output_type": "execute_result"
    }
   ],
   "source": [
    "people_array[0:]"
   ]
  },
  {
   "cell_type": "code",
   "execution_count": 9,
   "metadata": {},
   "outputs": [],
   "source": [
    "ages = people_array['age']"
   ]
  },
  {
   "cell_type": "code",
   "execution_count": 10,
   "metadata": {},
   "outputs": [
    {
     "data": {
      "text/plain": [
       "array([23,  0,  0, 34], dtype=int64)"
      ]
     },
     "execution_count": 10,
     "metadata": {},
     "output_type": "execute_result"
    }
   ],
   "source": [
    "ages"
   ]
  },
  {
   "cell_type": "code",
   "execution_count": 11,
   "metadata": {},
   "outputs": [],
   "source": [
    "makes_youthful = ages / 2"
   ]
  },
  {
   "cell_type": "code",
   "execution_count": 12,
   "metadata": {},
   "outputs": [
    {
     "data": {
      "text/plain": [
       "array([11.5,  0. ,  0. , 17. ])"
      ]
     },
     "execution_count": 12,
     "metadata": {},
     "output_type": "execute_result"
    }
   ],
   "source": [
    "makes_youthful"
   ]
  },
  {
   "cell_type": "code",
   "execution_count": 13,
   "metadata": {},
   "outputs": [
    {
     "data": {
      "text/plain": [
       "array([(b'Alfa', 65., 112., 23), (b'',  0.,   0.,  0),\n",
       "       (b'',  0.,   0.,  0), (b'Delta', 73., 205., 34)],\n",
       "      dtype=[('name', 'S6'), ('height', '<f8'), ('weight', '<f8'), ('age', '<i8')])"
      ]
     },
     "execution_count": 13,
     "metadata": {},
     "output_type": "execute_result"
    }
   ],
   "source": [
    "people_array"
   ]
  },
  {
   "cell_type": "markdown",
   "metadata": {},
   "source": [
    "### Multi-dimensional Structured Arrays"
   ]
  },
  {
   "cell_type": "code",
   "execution_count": 14,
   "metadata": {},
   "outputs": [
    {
     "data": {
      "text/plain": [
       "array([[[(b'', 0., 0., 0), (b'', 0., 0., 0)],\n",
       "        [(b'', 0., 0., 0), (b'', 0., 0., 0)],\n",
       "        [(b'', 0., 0., 0), (b'', 0., 0., 0)]],\n",
       "\n",
       "       [[(b'', 0., 0., 0), (b'', 0., 0., 0)],\n",
       "        [(b'', 0., 0., 0), (b'', 0., 0., 0)],\n",
       "        [(b'', 0., 0., 0), (b'', 0., 0., 0)]],\n",
       "\n",
       "       [[(b'', 0., 0., 0), (b'', 0., 0., 0)],\n",
       "        [(b'', 0., 0., 0), (b'', 0., 0., 0)],\n",
       "        [(b'', 0., 0., 0), (b'', 0., 0., 0)]],\n",
       "\n",
       "       [[(b'', 0., 0., 0), (b'', 0., 0., 0)],\n",
       "        [(b'', 0., 0., 0), (b'', 0., 0., 0)],\n",
       "        [(b'', 0., 0., 0), (b'', 0., 0., 0)]]],\n",
       "      dtype=[('name', 'S6'), ('height', '<f8'), ('weight', '<f8'), ('age', '<i8')])"
      ]
     },
     "execution_count": 14,
     "metadata": {},
     "output_type": "execute_result"
    }
   ],
   "source": [
    "people_big_array = np.zeros((4, 3, 2), dtype = person_data_def)\n",
    "people_big_array"
   ]
  },
  {
   "cell_type": "code",
   "execution_count": 15,
   "metadata": {},
   "outputs": [],
   "source": [
    "people_big_array[3, 2, 1] = ('Echo', 68, 155, 46)"
   ]
  },
  {
   "cell_type": "code",
   "execution_count": 16,
   "metadata": {},
   "outputs": [
    {
     "data": {
      "text/plain": [
       "array([[[(b'',  0.,   0.,  0), (b'',  0.,   0.,  0)],\n",
       "        [(b'',  0.,   0.,  0), (b'',  0.,   0.,  0)],\n",
       "        [(b'',  0.,   0.,  0), (b'',  0.,   0.,  0)]],\n",
       "\n",
       "       [[(b'',  0.,   0.,  0), (b'',  0.,   0.,  0)],\n",
       "        [(b'',  0.,   0.,  0), (b'',  0.,   0.,  0)],\n",
       "        [(b'',  0.,   0.,  0), (b'',  0.,   0.,  0)]],\n",
       "\n",
       "       [[(b'',  0.,   0.,  0), (b'',  0.,   0.,  0)],\n",
       "        [(b'',  0.,   0.,  0), (b'',  0.,   0.,  0)],\n",
       "        [(b'',  0.,   0.,  0), (b'',  0.,   0.,  0)]],\n",
       "\n",
       "       [[(b'',  0.,   0.,  0), (b'',  0.,   0.,  0)],\n",
       "        [(b'',  0.,   0.,  0), (b'',  0.,   0.,  0)],\n",
       "        [(b'',  0.,   0.,  0), (b'Echo', 68., 155., 46)]]],\n",
       "      dtype=[('name', 'S6'), ('height', '<f8'), ('weight', '<f8'), ('age', '<i8')])"
      ]
     },
     "execution_count": 16,
     "metadata": {},
     "output_type": "execute_result"
    }
   ],
   "source": [
    "people_big_array"
   ]
  },
  {
   "cell_type": "code",
   "execution_count": 17,
   "metadata": {},
   "outputs": [
    {
     "data": {
      "text/plain": [
       "array([[[ 0.,  0.],\n",
       "        [ 0.,  0.],\n",
       "        [ 0.,  0.]],\n",
       "\n",
       "       [[ 0.,  0.],\n",
       "        [ 0.,  0.],\n",
       "        [ 0.,  0.]],\n",
       "\n",
       "       [[ 0.,  0.],\n",
       "        [ 0.,  0.],\n",
       "        [ 0.,  0.]],\n",
       "\n",
       "       [[ 0.,  0.],\n",
       "        [ 0.,  0.],\n",
       "        [ 0., 68.]]])"
      ]
     },
     "execution_count": 17,
     "metadata": {},
     "output_type": "execute_result"
    }
   ],
   "source": [
    "people_big_array['height']"
   ]
  },
  {
   "cell_type": "code",
   "execution_count": 18,
   "metadata": {},
   "outputs": [
    {
     "data": {
      "text/plain": [
       "array([[[( 0.,   0.), ( 0.,   0.)],\n",
       "        [( 0.,   0.), ( 0.,   0.)],\n",
       "        [( 0.,   0.), ( 0.,   0.)]],\n",
       "\n",
       "       [[( 0.,   0.), ( 0.,   0.)],\n",
       "        [( 0.,   0.), ( 0.,   0.)],\n",
       "        [( 0.,   0.), ( 0.,   0.)]],\n",
       "\n",
       "       [[( 0.,   0.), ( 0.,   0.)],\n",
       "        [( 0.,   0.), ( 0.,   0.)],\n",
       "        [( 0.,   0.), ( 0.,   0.)]],\n",
       "\n",
       "       [[( 0.,   0.), ( 0.,   0.)],\n",
       "        [( 0.,   0.), ( 0.,   0.)],\n",
       "        [( 0.,   0.), (68., 155.)]]],\n",
       "      dtype={'names':['height','weight'], 'formats':['<f8','<f8'], 'offsets':[6,14], 'itemsize':30})"
      ]
     },
     "execution_count": 18,
     "metadata": {},
     "output_type": "execute_result"
    }
   ],
   "source": [
    "people_big_array[['height', 'weight']]"
   ]
  },
  {
   "cell_type": "markdown",
   "metadata": {},
   "source": [
    "### Creating record array"
   ]
  },
  {
   "cell_type": "code",
   "execution_count": 19,
   "metadata": {},
   "outputs": [
    {
     "data": {
      "text/plain": [
       "rec.array([(b'Delta,', 73., 205., 34), (b'Alfa', 65., 112., 23)],\n",
       "          dtype=[('name', 'S6'), ('height', '<f8'), ('weight', '<f8'), ('age', '<i8')])"
      ]
     },
     "execution_count": 19,
     "metadata": {},
     "output_type": "execute_result"
    }
   ],
   "source": [
    "person_record_array = np.rec.array([('Delta,', 73, 205, 34), ('Alfa', 65, 112, 23)], dtype = person_data_def)\n",
    "person_record_array"
   ]
  },
  {
   "cell_type": "code",
   "execution_count": 20,
   "metadata": {},
   "outputs": [
    {
     "data": {
      "text/plain": [
       "34"
      ]
     },
     "execution_count": 20,
     "metadata": {},
     "output_type": "execute_result"
    }
   ],
   "source": [
    "person_record_array[0].age"
   ]
  },
  {
   "cell_type": "code",
   "execution_count": null,
   "metadata": {},
   "outputs": [],
   "source": []
  }
 ],
 "metadata": {
  "kernelspec": {
   "display_name": "Python 3",
   "language": "python",
   "name": "python3"
  },
  "language_info": {
   "codemirror_mode": {
    "name": "ipython",
    "version": 3
   },
   "file_extension": ".py",
   "mimetype": "text/x-python",
   "name": "python",
   "nbconvert_exporter": "python",
   "pygments_lexer": "ipython3",
   "version": "3.8.8"
  }
 },
 "nbformat": 4,
 "nbformat_minor": 1
}
